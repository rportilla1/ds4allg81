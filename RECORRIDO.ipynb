{
 "cells": [
  {
   "cell_type": "code",
   "execution_count": 1,
   "metadata": {},
   "outputs": [],
   "source": []
  },
  {
   "cell_type": "code",
   "execution_count": 113,
   "metadata": {},
   "outputs": [],
   "source": [
    "import requests\n",
    "import pandas as pd\n",
    "import matplotlib.pyplot as plt\n",
    "import seaborn as sns\n",
    "import numpy as np"
   ]
  },
  {
   "cell_type": "code",
   "execution_count": 114,
   "metadata": {},
   "outputs": [],
   "source": [
    "# load csv dataset\n",
    "df = pd.read_csv(\"Detalle recorridos 22 sept.csv\", delimiter = ',')"
   ]
  },
  {
   "cell_type": "code",
   "execution_count": 115,
   "metadata": {},
   "outputs": [
    {
     "data": {
      "text/html": [
       "<div>\n",
       "<style scoped>\n",
       "    .dataframe tbody tr th:only-of-type {\n",
       "        vertical-align: middle;\n",
       "    }\n",
       "\n",
       "    .dataframe tbody tr th {\n",
       "        vertical-align: top;\n",
       "    }\n",
       "\n",
       "    .dataframe thead th {\n",
       "        text-align: right;\n",
       "    }\n",
       "</style>\n",
       "<table border=\"1\" class=\"dataframe\">\n",
       "  <thead>\n",
       "    <tr style=\"text-align: right;\">\n",
       "      <th></th>\n",
       "      <th>SECUENCIARECORRIDO</th>\n",
       "      <th>CONSECUTIVOREGISTRO</th>\n",
       "      <th>RECORRIDOFINALIZADO</th>\n",
       "      <th>IDVEHICULO</th>\n",
       "      <th>IDEMPRESA</th>\n",
       "      <th>CODIGORUTA</th>\n",
       "      <th>FECHAREGISTRO</th>\n",
       "      <th>LATITUD</th>\n",
       "      <th>LONGITUD</th>\n",
       "      <th>VELOCIDAD</th>\n",
       "      <th>ESTADOPUERTAS</th>\n",
       "      <th>MARGENDESVIACION</th>\n",
       "      <th>SUBENDELANTERA</th>\n",
       "      <th>SUBENTRASERA</th>\n",
       "      <th>BAJANDELANTERA</th>\n",
       "      <th>BAJANTRASERA</th>\n",
       "      <th>ACUMULADOPASAJEROS</th>\n",
       "    </tr>\n",
       "  </thead>\n",
       "  <tbody>\n",
       "    <tr>\n",
       "      <th>0</th>\n",
       "      <td>231232928</td>\n",
       "      <td>92</td>\n",
       "      <td>S</td>\n",
       "      <td>3279</td>\n",
       "      <td>27</td>\n",
       "      <td>110015</td>\n",
       "      <td>22/09/2020 12:10:27</td>\n",
       "      <td>6.252668</td>\n",
       "      <td>-75.574348</td>\n",
       "      <td>42</td>\n",
       "      <td>DATC</td>\n",
       "      <td>2,23</td>\n",
       "      <td>0</td>\n",
       "      <td>0</td>\n",
       "      <td>0</td>\n",
       "      <td>0</td>\n",
       "      <td>5</td>\n",
       "    </tr>\n",
       "    <tr>\n",
       "      <th>1</th>\n",
       "      <td>231232928</td>\n",
       "      <td>83</td>\n",
       "      <td>S</td>\n",
       "      <td>3279</td>\n",
       "      <td>27</td>\n",
       "      <td>110015</td>\n",
       "      <td>22/09/2020 12:06:55</td>\n",
       "      <td>6.262418</td>\n",
       "      <td>-75.587822</td>\n",
       "      <td>0</td>\n",
       "      <td>DATC</td>\n",
       "      <td>1,90</td>\n",
       "      <td>0</td>\n",
       "      <td>0</td>\n",
       "      <td>0</td>\n",
       "      <td>0</td>\n",
       "      <td>7</td>\n",
       "    </tr>\n",
       "    <tr>\n",
       "      <th>2</th>\n",
       "      <td>231232928</td>\n",
       "      <td>99</td>\n",
       "      <td>S</td>\n",
       "      <td>3279</td>\n",
       "      <td>27</td>\n",
       "      <td>110015</td>\n",
       "      <td>22/09/2020 12:12:49</td>\n",
       "      <td>6.255125</td>\n",
       "      <td>-75.574127</td>\n",
       "      <td>12</td>\n",
       "      <td>DATC</td>\n",
       "      <td>2,05</td>\n",
       "      <td>0</td>\n",
       "      <td>0</td>\n",
       "      <td>0</td>\n",
       "      <td>1</td>\n",
       "      <td>4</td>\n",
       "    </tr>\n",
       "    <tr>\n",
       "      <th>3</th>\n",
       "      <td>231232928</td>\n",
       "      <td>28</td>\n",
       "      <td>S</td>\n",
       "      <td>3279</td>\n",
       "      <td>27</td>\n",
       "      <td>110015</td>\n",
       "      <td>22/09/2020 11:40:35</td>\n",
       "      <td>6.273774</td>\n",
       "      <td>-75.603790</td>\n",
       "      <td>0</td>\n",
       "      <td>DATC</td>\n",
       "      <td>2,50</td>\n",
       "      <td>0</td>\n",
       "      <td>0</td>\n",
       "      <td>0</td>\n",
       "      <td>0</td>\n",
       "      <td>6</td>\n",
       "    </tr>\n",
       "    <tr>\n",
       "      <th>4</th>\n",
       "      <td>231232928</td>\n",
       "      <td>101</td>\n",
       "      <td>S</td>\n",
       "      <td>3279</td>\n",
       "      <td>27</td>\n",
       "      <td>110015</td>\n",
       "      <td>22/09/2020 12:13:19</td>\n",
       "      <td>6.255438</td>\n",
       "      <td>-75.573807</td>\n",
       "      <td>0</td>\n",
       "      <td>DATC</td>\n",
       "      <td>2,03</td>\n",
       "      <td>0</td>\n",
       "      <td>0</td>\n",
       "      <td>0</td>\n",
       "      <td>0</td>\n",
       "      <td>4</td>\n",
       "    </tr>\n",
       "    <tr>\n",
       "      <th>5</th>\n",
       "      <td>231232928</td>\n",
       "      <td>66</td>\n",
       "      <td>S</td>\n",
       "      <td>3279</td>\n",
       "      <td>27</td>\n",
       "      <td>110015</td>\n",
       "      <td>22/09/2020 11:59:03</td>\n",
       "      <td>6.269069</td>\n",
       "      <td>-75.600075</td>\n",
       "      <td>27</td>\n",
       "      <td>DATC</td>\n",
       "      <td>1,94</td>\n",
       "      <td>0</td>\n",
       "      <td>0</td>\n",
       "      <td>0</td>\n",
       "      <td>0</td>\n",
       "      <td>7</td>\n",
       "    </tr>\n",
       "    <tr>\n",
       "      <th>6</th>\n",
       "      <td>231232928</td>\n",
       "      <td>43</td>\n",
       "      <td>S</td>\n",
       "      <td>3279</td>\n",
       "      <td>27</td>\n",
       "      <td>110015</td>\n",
       "      <td>22/09/2020 11:47:47</td>\n",
       "      <td>6.274590</td>\n",
       "      <td>-75.604500</td>\n",
       "      <td>0</td>\n",
       "      <td>DATC</td>\n",
       "      <td>1,91</td>\n",
       "      <td>0</td>\n",
       "      <td>0</td>\n",
       "      <td>0</td>\n",
       "      <td>0</td>\n",
       "      <td>4</td>\n",
       "    </tr>\n",
       "    <tr>\n",
       "      <th>7</th>\n",
       "      <td>231232928</td>\n",
       "      <td>14</td>\n",
       "      <td>S</td>\n",
       "      <td>3279</td>\n",
       "      <td>27</td>\n",
       "      <td>110015</td>\n",
       "      <td>22/09/2020 11:34:45</td>\n",
       "      <td>6.272694</td>\n",
       "      <td>-75.609116</td>\n",
       "      <td>1</td>\n",
       "      <td>DATC</td>\n",
       "      <td>2,47</td>\n",
       "      <td>0</td>\n",
       "      <td>0</td>\n",
       "      <td>0</td>\n",
       "      <td>0</td>\n",
       "      <td>4</td>\n",
       "    </tr>\n",
       "    <tr>\n",
       "      <th>8</th>\n",
       "      <td>231232928</td>\n",
       "      <td>10</td>\n",
       "      <td>S</td>\n",
       "      <td>3279</td>\n",
       "      <td>27</td>\n",
       "      <td>110015</td>\n",
       "      <td>22/09/2020 11:33:22</td>\n",
       "      <td>6.273529</td>\n",
       "      <td>-75.610458</td>\n",
       "      <td>13</td>\n",
       "      <td>DATC</td>\n",
       "      <td>1,83</td>\n",
       "      <td>0</td>\n",
       "      <td>0</td>\n",
       "      <td>0</td>\n",
       "      <td>0</td>\n",
       "      <td>3</td>\n",
       "    </tr>\n",
       "    <tr>\n",
       "      <th>9</th>\n",
       "      <td>231232928</td>\n",
       "      <td>11</td>\n",
       "      <td>S</td>\n",
       "      <td>3279</td>\n",
       "      <td>27</td>\n",
       "      <td>110015</td>\n",
       "      <td>22/09/2020 11:33:31</td>\n",
       "      <td>6.273421</td>\n",
       "      <td>-75.610298</td>\n",
       "      <td>0</td>\n",
       "      <td>DATC</td>\n",
       "      <td>1,97</td>\n",
       "      <td>0</td>\n",
       "      <td>0</td>\n",
       "      <td>0</td>\n",
       "      <td>0</td>\n",
       "      <td>3</td>\n",
       "    </tr>\n",
       "  </tbody>\n",
       "</table>\n",
       "</div>"
      ],
      "text/plain": [
       "   SECUENCIARECORRIDO  CONSECUTIVOREGISTRO RECORRIDOFINALIZADO  IDVEHICULO  \\\n",
       "0           231232928                   92                   S        3279   \n",
       "1           231232928                   83                   S        3279   \n",
       "2           231232928                   99                   S        3279   \n",
       "3           231232928                   28                   S        3279   \n",
       "4           231232928                  101                   S        3279   \n",
       "5           231232928                   66                   S        3279   \n",
       "6           231232928                   43                   S        3279   \n",
       "7           231232928                   14                   S        3279   \n",
       "8           231232928                   10                   S        3279   \n",
       "9           231232928                   11                   S        3279   \n",
       "\n",
       "   IDEMPRESA  CODIGORUTA        FECHAREGISTRO   LATITUD   LONGITUD  VELOCIDAD  \\\n",
       "0         27      110015  22/09/2020 12:10:27  6.252668 -75.574348         42   \n",
       "1         27      110015  22/09/2020 12:06:55  6.262418 -75.587822          0   \n",
       "2         27      110015  22/09/2020 12:12:49  6.255125 -75.574127         12   \n",
       "3         27      110015  22/09/2020 11:40:35  6.273774 -75.603790          0   \n",
       "4         27      110015  22/09/2020 12:13:19  6.255438 -75.573807          0   \n",
       "5         27      110015  22/09/2020 11:59:03  6.269069 -75.600075         27   \n",
       "6         27      110015  22/09/2020 11:47:47  6.274590 -75.604500          0   \n",
       "7         27      110015  22/09/2020 11:34:45  6.272694 -75.609116          1   \n",
       "8         27      110015  22/09/2020 11:33:22  6.273529 -75.610458         13   \n",
       "9         27      110015  22/09/2020 11:33:31  6.273421 -75.610298          0   \n",
       "\n",
       "  ESTADOPUERTAS MARGENDESVIACION  SUBENDELANTERA  SUBENTRASERA  \\\n",
       "0          DATC             2,23               0             0   \n",
       "1          DATC             1,90               0             0   \n",
       "2          DATC             2,05               0             0   \n",
       "3          DATC             2,50               0             0   \n",
       "4          DATC             2,03               0             0   \n",
       "5          DATC             1,94               0             0   \n",
       "6          DATC             1,91               0             0   \n",
       "7          DATC             2,47               0             0   \n",
       "8          DATC             1,83               0             0   \n",
       "9          DATC             1,97               0             0   \n",
       "\n",
       "   BAJANDELANTERA  BAJANTRASERA  ACUMULADOPASAJEROS  \n",
       "0               0             0                   5  \n",
       "1               0             0                   7  \n",
       "2               0             1                   4  \n",
       "3               0             0                   6  \n",
       "4               0             0                   4  \n",
       "5               0             0                   7  \n",
       "6               0             0                   4  \n",
       "7               0             0                   4  \n",
       "8               0             0                   3  \n",
       "9               0             0                   3  "
      ]
     },
     "execution_count": 115,
     "metadata": {},
     "output_type": "execute_result"
    }
   ],
   "source": [
    "df.head(10)"
   ]
  },
  {
   "cell_type": "code",
   "execution_count": 116,
   "metadata": {},
   "outputs": [
    {
     "data": {
      "text/plain": [
       "Index(['SECUENCIARECORRIDO', 'CONSECUTIVOREGISTRO', 'RECORRIDOFINALIZADO',\n",
       "       'IDVEHICULO', 'IDEMPRESA', 'CODIGORUTA', 'FECHAREGISTRO', 'LATITUD',\n",
       "       'LONGITUD', 'VELOCIDAD', 'ESTADOPUERTAS', 'MARGENDESVIACION',\n",
       "       'SUBENDELANTERA', 'SUBENTRASERA', 'BAJANDELANTERA', 'BAJANTRASERA',\n",
       "       'ACUMULADOPASAJEROS'],\n",
       "      dtype='object')"
      ]
     },
     "execution_count": 116,
     "metadata": {},
     "output_type": "execute_result"
    }
   ],
   "source": [
    "df.columns"
   ]
  },
  {
   "cell_type": "code",
   "execution_count": 117,
   "metadata": {},
   "outputs": [
    {
     "name": "stdout",
     "output_type": "stream",
     "text": [
      "<class 'pandas.core.frame.DataFrame'>\n",
      "RangeIndex: 3360206 entries, 0 to 3360205\n",
      "Data columns (total 17 columns):\n",
      " #   Column               Dtype  \n",
      "---  ------               -----  \n",
      " 0   SECUENCIARECORRIDO   int64  \n",
      " 1   CONSECUTIVOREGISTRO  int64  \n",
      " 2   RECORRIDOFINALIZADO  object \n",
      " 3   IDVEHICULO           int64  \n",
      " 4   IDEMPRESA            int64  \n",
      " 5   CODIGORUTA           int64  \n",
      " 6   FECHAREGISTRO        object \n",
      " 7   LATITUD              float64\n",
      " 8   LONGITUD             float64\n",
      " 9   VELOCIDAD            int64  \n",
      " 10  ESTADOPUERTAS        object \n",
      " 11  MARGENDESVIACION     object \n",
      " 12  SUBENDELANTERA       int64  \n",
      " 13  SUBENTRASERA         int64  \n",
      " 14  BAJANDELANTERA       int64  \n",
      " 15  BAJANTRASERA         int64  \n",
      " 16  ACUMULADOPASAJEROS   int64  \n",
      "dtypes: float64(2), int64(11), object(4)\n",
      "memory usage: 435.8+ MB\n"
     ]
    }
   ],
   "source": [
    "df.info()"
   ]
  },
  {
   "cell_type": "code",
   "execution_count": 118,
   "metadata": {},
   "outputs": [
    {
     "name": "stdout",
     "output_type": "stream",
     "text": [
      "porcentaje de rutas exitosas de la empresa: \n"
     ]
    },
    {
     "data": {
      "text/html": [
       "<div>\n",
       "<style scoped>\n",
       "    .dataframe tbody tr th:only-of-type {\n",
       "        vertical-align: middle;\n",
       "    }\n",
       "\n",
       "    .dataframe tbody tr th {\n",
       "        vertical-align: top;\n",
       "    }\n",
       "\n",
       "    .dataframe thead th {\n",
       "        text-align: right;\n",
       "    }\n",
       "</style>\n",
       "<table border=\"1\" class=\"dataframe\">\n",
       "  <thead>\n",
       "    <tr style=\"text-align: right;\">\n",
       "      <th></th>\n",
       "      <th>RECORRIDOFINALIZADO</th>\n",
       "    </tr>\n",
       "    <tr>\n",
       "      <th>RECORRIDOFINALIZADO</th>\n",
       "      <th></th>\n",
       "    </tr>\n",
       "  </thead>\n",
       "  <tbody>\n",
       "    <tr>\n",
       "      <th>N</th>\n",
       "      <td>0.097027</td>\n",
       "    </tr>\n",
       "    <tr>\n",
       "      <th>S</th>\n",
       "      <td>0.902973</td>\n",
       "    </tr>\n",
       "  </tbody>\n",
       "</table>\n",
       "</div>"
      ],
      "text/plain": [
       "                     RECORRIDOFINALIZADO\n",
       "RECORRIDOFINALIZADO                     \n",
       "N                               0.097027\n",
       "S                               0.902973"
      ]
     },
     "execution_count": 118,
     "metadata": {},
     "output_type": "execute_result"
    }
   ],
   "source": [
    "print(\"porcentaje de rutas exitosas de la empresa: \")\n",
    "df.groupby('RECORRIDOFINALIZADO').agg({'RECORRIDOFINALIZADO': 'count'})/df['RECORRIDOFINALIZADO'].size"
   ]
  },
  {
   "cell_type": "code",
   "execution_count": null,
   "metadata": {},
   "outputs": [],
   "source": [
    "dfff = df.groupby('RECORRIDOFINALIZADO').agg({'RECORRIDOFINALIZADO': 'count'})/df['RECORRIDOFINALIZADO']\n",
    "dfff.reset_index(inplace=True)\n",
    "dfff.head()"
   ]
  },
  {
   "cell_type": "code",
   "execution_count": null,
   "metadata": {},
   "outputs": [],
   "source": [
    "print(\"Cantidad de recorridos: \")\n",
    "df['RECORRIDOFINALIZADO'].size"
   ]
  },
  {
   "cell_type": "code",
   "execution_count": 52,
   "metadata": {},
   "outputs": [
    {
     "data": {
      "text/plain": [
       "15319"
      ]
     },
     "execution_count": 52,
     "metadata": {},
     "output_type": "execute_result"
    }
   ],
   "source": [
    "#TOTAL SECUENCIAS\n",
    "print(\"Cantidad de secuencias unicas: \")\n",
    "df['SECUENCIARECORRIDO'].unique().size"
   ]
  },
  {
   "cell_type": "code",
   "execution_count": 101,
   "metadata": {},
   "outputs": [
    {
     "name": "stdout",
     "output_type": "stream",
     "text": [
      "1708\n"
     ]
    }
   ],
   "source": [
    "#SECUENCIAS UNICAS EN ESTADO N\n",
    "SECU_N = df[df['RECORRIDOFINALIZADO'] == \"N\"]['SECUENCIARECORRIDO'].unique().size\n",
    "print(SECU_N)"
   ]
  },
  {
   "cell_type": "code",
   "execution_count": 49,
   "metadata": {},
   "outputs": [
    {
     "data": {
      "text/plain": [
       "0.11149552842874862"
      ]
     },
     "execution_count": 49,
     "metadata": {},
     "output_type": "execute_result"
    }
   ],
   "source": [
    "#% RECORRIDOS EN ESTADO N\n",
    "df[df['RECORRIDOFINALIZADO'] == \"N\"]['SECUENCIARECORRIDO'].unique().size/df['SECUENCIARECORRIDO'].unique().size"
   ]
  },
  {
   "cell_type": "code",
   "execution_count": 53,
   "metadata": {},
   "outputs": [
    {
     "name": "stdout",
     "output_type": "stream",
     "text": [
      "Cantidad de empresas prestadoras del servicio: \n"
     ]
    },
    {
     "data": {
      "text/plain": [
       "41"
      ]
     },
     "execution_count": 53,
     "metadata": {},
     "output_type": "execute_result"
    }
   ],
   "source": [
    "#EMPRESAS PRESTADORAS DEL SERVICIO\n",
    "print(\"Cantidad de empresas prestadoras del servicio: \")\n",
    "df['IDEMPRESA'].unique().size"
   ]
  },
  {
   "cell_type": "code",
   "execution_count": 70,
   "metadata": {},
   "outputs": [
    {
     "name": "stdout",
     "output_type": "stream",
     "text": [
      "Cantidad : 35, Porcentaje: 0.8536585365853658\n"
     ]
    }
   ],
   "source": [
    "##EMPRESAS CON CASOS N\n",
    "n_empresas = df[df['RECORRIDOFINALIZADO'] == \"N\"]['IDEMPRESA'].unique().size\n",
    "porcen_empresas = df[df['RECORRIDOFINALIZADO'] == \"N\"]['IDEMPRESA'].unique().size/df['IDEMPRESA'].unique().size\n",
    "print(\"Cantidad : \" + str(n_empresas) + \", Porcentaje: \" + str(porcen_empresas))"
   ]
  },
  {
   "cell_type": "code",
   "execution_count": 106,
   "metadata": {},
   "outputs": [
    {
     "data": {
      "text/html": [
       "<div>\n",
       "<style scoped>\n",
       "    .dataframe tbody tr th:only-of-type {\n",
       "        vertical-align: middle;\n",
       "    }\n",
       "\n",
       "    .dataframe tbody tr th {\n",
       "        vertical-align: top;\n",
       "    }\n",
       "\n",
       "    .dataframe thead th {\n",
       "        text-align: right;\n",
       "    }\n",
       "</style>\n",
       "<table border=\"1\" class=\"dataframe\">\n",
       "  <thead>\n",
       "    <tr style=\"text-align: right;\">\n",
       "      <th></th>\n",
       "      <th>SECUENCIARECORRIDO</th>\n",
       "      <th>Porcentaje</th>\n",
       "    </tr>\n",
       "    <tr>\n",
       "      <th>IDEMPRESA</th>\n",
       "      <th></th>\n",
       "      <th></th>\n",
       "    </tr>\n",
       "  </thead>\n",
       "  <tbody>\n",
       "    <tr>\n",
       "      <th>14</th>\n",
       "      <td>580</td>\n",
       "      <td>0.339578</td>\n",
       "    </tr>\n",
       "    <tr>\n",
       "      <th>13</th>\n",
       "      <td>341</td>\n",
       "      <td>0.199649</td>\n",
       "    </tr>\n",
       "    <tr>\n",
       "      <th>4</th>\n",
       "      <td>128</td>\n",
       "      <td>0.074941</td>\n",
       "    </tr>\n",
       "    <tr>\n",
       "      <th>42</th>\n",
       "      <td>54</td>\n",
       "      <td>0.031616</td>\n",
       "    </tr>\n",
       "    <tr>\n",
       "      <th>25</th>\n",
       "      <td>53</td>\n",
       "      <td>0.031030</td>\n",
       "    </tr>\n",
       "    <tr>\n",
       "      <th>10</th>\n",
       "      <td>48</td>\n",
       "      <td>0.028103</td>\n",
       "    </tr>\n",
       "    <tr>\n",
       "      <th>8</th>\n",
       "      <td>45</td>\n",
       "      <td>0.026347</td>\n",
       "    </tr>\n",
       "    <tr>\n",
       "      <th>12</th>\n",
       "      <td>37</td>\n",
       "      <td>0.021663</td>\n",
       "    </tr>\n",
       "    <tr>\n",
       "      <th>53</th>\n",
       "      <td>37</td>\n",
       "      <td>0.021663</td>\n",
       "    </tr>\n",
       "    <tr>\n",
       "      <th>33</th>\n",
       "      <td>35</td>\n",
       "      <td>0.020492</td>\n",
       "    </tr>\n",
       "  </tbody>\n",
       "</table>\n",
       "</div>"
      ],
      "text/plain": [
       "           SECUENCIARECORRIDO  Porcentaje\n",
       "IDEMPRESA                                \n",
       "14                        580    0.339578\n",
       "13                        341    0.199649\n",
       "4                         128    0.074941\n",
       "42                         54    0.031616\n",
       "25                         53    0.031030\n",
       "10                         48    0.028103\n",
       "8                          45    0.026347\n",
       "12                         37    0.021663\n",
       "53                         37    0.021663\n",
       "33                         35    0.020492"
      ]
     },
     "execution_count": 106,
     "metadata": {},
     "output_type": "execute_result"
    }
   ],
   "source": [
    "#EMPRESAS ESTADO N, TOP 10 Y %\n",
    "dPFDDD = df[df['RECORRIDOFINALIZADO'] == \"N\"].groupby('IDEMPRESA').agg({'SECUENCIARECORRIDO': pd.Series.nunique, })\n",
    "dPFDDD['Porcentaje'] = dPFDDD['SECUENCIARECORRIDO']/SECU_N\n",
    "dPFDDD.sort_values(\"SECUENCIARECORRIDO\", axis = 0, ascending = False, \n",
    "                                    inplace = True, na_position ='last') \n",
    "\n",
    "dPFDDD.head(10)"
   ]
  },
  {
   "cell_type": "code",
   "execution_count": 152,
   "metadata": {},
   "outputs": [
    {
     "ename": "ValueError",
     "evalue": "cannot insert level_0, already exists",
     "output_type": "error",
     "traceback": [
      "\u001b[1;31m---------------------------------------------------------------------------\u001b[0m",
      "\u001b[1;31mValueError\u001b[0m                                Traceback (most recent call last)",
      "\u001b[1;32m<ipython-input-152-3a36e0bea459>\u001b[0m in \u001b[0;36m<module>\u001b[1;34m\u001b[0m\n\u001b[0;32m      1\u001b[0m \u001b[1;31m#TOP DE EMPRESAS CON RECORRIDOS N\u001b[0m\u001b[1;33m\u001b[0m\u001b[1;33m\u001b[0m\u001b[1;33m\u001b[0m\u001b[0m\n\u001b[1;32m----> 2\u001b[1;33m \u001b[0mdPFDDD\u001b[0m\u001b[1;33m.\u001b[0m\u001b[0mreset_index\u001b[0m\u001b[1;33m(\u001b[0m\u001b[0minplace\u001b[0m\u001b[1;33m=\u001b[0m\u001b[1;32mTrue\u001b[0m\u001b[1;33m)\u001b[0m\u001b[1;33m\u001b[0m\u001b[1;33m\u001b[0m\u001b[0m\n\u001b[0m",
      "\u001b[1;32m~\\Anaconda3\\lib\\site-packages\\pandas\\core\\frame.py\u001b[0m in \u001b[0;36mreset_index\u001b[1;34m(self, level, drop, inplace, col_level, col_fill)\u001b[0m\n\u001b[0;32m   4602\u001b[0m                 \u001b[1;31m# to ndarray and maybe infer different dtype\u001b[0m\u001b[1;33m\u001b[0m\u001b[1;33m\u001b[0m\u001b[1;33m\u001b[0m\u001b[0m\n\u001b[0;32m   4603\u001b[0m                 \u001b[0mlevel_values\u001b[0m \u001b[1;33m=\u001b[0m \u001b[0m_maybe_casted_values\u001b[0m\u001b[1;33m(\u001b[0m\u001b[0mlev\u001b[0m\u001b[1;33m,\u001b[0m \u001b[0mlab\u001b[0m\u001b[1;33m)\u001b[0m\u001b[1;33m\u001b[0m\u001b[1;33m\u001b[0m\u001b[0m\n\u001b[1;32m-> 4604\u001b[1;33m                 \u001b[0mnew_obj\u001b[0m\u001b[1;33m.\u001b[0m\u001b[0minsert\u001b[0m\u001b[1;33m(\u001b[0m\u001b[1;36m0\u001b[0m\u001b[1;33m,\u001b[0m \u001b[0mname\u001b[0m\u001b[1;33m,\u001b[0m \u001b[0mlevel_values\u001b[0m\u001b[1;33m)\u001b[0m\u001b[1;33m\u001b[0m\u001b[1;33m\u001b[0m\u001b[0m\n\u001b[0m\u001b[0;32m   4605\u001b[0m \u001b[1;33m\u001b[0m\u001b[0m\n\u001b[0;32m   4606\u001b[0m         \u001b[0mnew_obj\u001b[0m\u001b[1;33m.\u001b[0m\u001b[0mindex\u001b[0m \u001b[1;33m=\u001b[0m \u001b[0mnew_index\u001b[0m\u001b[1;33m\u001b[0m\u001b[1;33m\u001b[0m\u001b[0m\n",
      "\u001b[1;32m~\\Anaconda3\\lib\\site-packages\\pandas\\core\\frame.py\u001b[0m in \u001b[0;36minsert\u001b[1;34m(self, loc, column, value, allow_duplicates)\u001b[0m\n\u001b[0;32m   3494\u001b[0m         \u001b[0mself\u001b[0m\u001b[1;33m.\u001b[0m\u001b[0m_ensure_valid_index\u001b[0m\u001b[1;33m(\u001b[0m\u001b[0mvalue\u001b[0m\u001b[1;33m)\u001b[0m\u001b[1;33m\u001b[0m\u001b[1;33m\u001b[0m\u001b[0m\n\u001b[0;32m   3495\u001b[0m         \u001b[0mvalue\u001b[0m \u001b[1;33m=\u001b[0m \u001b[0mself\u001b[0m\u001b[1;33m.\u001b[0m\u001b[0m_sanitize_column\u001b[0m\u001b[1;33m(\u001b[0m\u001b[0mcolumn\u001b[0m\u001b[1;33m,\u001b[0m \u001b[0mvalue\u001b[0m\u001b[1;33m,\u001b[0m \u001b[0mbroadcast\u001b[0m\u001b[1;33m=\u001b[0m\u001b[1;32mFalse\u001b[0m\u001b[1;33m)\u001b[0m\u001b[1;33m\u001b[0m\u001b[1;33m\u001b[0m\u001b[0m\n\u001b[1;32m-> 3496\u001b[1;33m         \u001b[0mself\u001b[0m\u001b[1;33m.\u001b[0m\u001b[0m_data\u001b[0m\u001b[1;33m.\u001b[0m\u001b[0minsert\u001b[0m\u001b[1;33m(\u001b[0m\u001b[0mloc\u001b[0m\u001b[1;33m,\u001b[0m \u001b[0mcolumn\u001b[0m\u001b[1;33m,\u001b[0m \u001b[0mvalue\u001b[0m\u001b[1;33m,\u001b[0m \u001b[0mallow_duplicates\u001b[0m\u001b[1;33m=\u001b[0m\u001b[0mallow_duplicates\u001b[0m\u001b[1;33m)\u001b[0m\u001b[1;33m\u001b[0m\u001b[1;33m\u001b[0m\u001b[0m\n\u001b[0m\u001b[0;32m   3497\u001b[0m \u001b[1;33m\u001b[0m\u001b[0m\n\u001b[0;32m   3498\u001b[0m     \u001b[1;32mdef\u001b[0m \u001b[0massign\u001b[0m\u001b[1;33m(\u001b[0m\u001b[0mself\u001b[0m\u001b[1;33m,\u001b[0m \u001b[1;33m**\u001b[0m\u001b[0mkwargs\u001b[0m\u001b[1;33m)\u001b[0m \u001b[1;33m->\u001b[0m \u001b[1;34m\"DataFrame\"\u001b[0m\u001b[1;33m:\u001b[0m\u001b[1;33m\u001b[0m\u001b[1;33m\u001b[0m\u001b[0m\n",
      "\u001b[1;32m~\\Anaconda3\\lib\\site-packages\\pandas\\core\\internals\\managers.py\u001b[0m in \u001b[0;36minsert\u001b[1;34m(self, loc, item, value, allow_duplicates)\u001b[0m\n\u001b[0;32m   1171\u001b[0m         \u001b[1;32mif\u001b[0m \u001b[1;32mnot\u001b[0m \u001b[0mallow_duplicates\u001b[0m \u001b[1;32mand\u001b[0m \u001b[0mitem\u001b[0m \u001b[1;32min\u001b[0m \u001b[0mself\u001b[0m\u001b[1;33m.\u001b[0m\u001b[0mitems\u001b[0m\u001b[1;33m:\u001b[0m\u001b[1;33m\u001b[0m\u001b[1;33m\u001b[0m\u001b[0m\n\u001b[0;32m   1172\u001b[0m             \u001b[1;31m# Should this be a different kind of error??\u001b[0m\u001b[1;33m\u001b[0m\u001b[1;33m\u001b[0m\u001b[1;33m\u001b[0m\u001b[0m\n\u001b[1;32m-> 1173\u001b[1;33m             \u001b[1;32mraise\u001b[0m \u001b[0mValueError\u001b[0m\u001b[1;33m(\u001b[0m\u001b[1;34mf\"cannot insert {item}, already exists\"\u001b[0m\u001b[1;33m)\u001b[0m\u001b[1;33m\u001b[0m\u001b[1;33m\u001b[0m\u001b[0m\n\u001b[0m\u001b[0;32m   1174\u001b[0m \u001b[1;33m\u001b[0m\u001b[0m\n\u001b[0;32m   1175\u001b[0m         \u001b[1;32mif\u001b[0m \u001b[1;32mnot\u001b[0m \u001b[0misinstance\u001b[0m\u001b[1;33m(\u001b[0m\u001b[0mloc\u001b[0m\u001b[1;33m,\u001b[0m \u001b[0mint\u001b[0m\u001b[1;33m)\u001b[0m\u001b[1;33m:\u001b[0m\u001b[1;33m\u001b[0m\u001b[1;33m\u001b[0m\u001b[0m\n",
      "\u001b[1;31mValueError\u001b[0m: cannot insert level_0, already exists"
     ]
    }
   ],
   "source": [
    "#TOP DE EMPRESAS CON RECORRIDOS N\n",
    "dPFDDD.reset_index(inplace=True)"
   ]
  },
  {
   "cell_type": "code",
   "execution_count": 148,
   "metadata": {},
   "outputs": [
    {
     "data": {
      "image/png": "[encoded data removed]",
      "text/plain": [
       "<Figure size 432x288 with 1 Axes>"
      ]
     },
     "metadata": {
      "needs_background": "light"
     },
     "output_type": "display_data"
    }
   ],
   "source": [
    "#PLOT EMPRESAS N\n",
    "from itertools import cycle, islice\n",
    "my_colors = list(islice(cycle(['tab:blue', 'tab:orange', 'tab:green', 'tab:red', 'tab:purple', 'tab:brown', 'tab:pink', 'tab:gray', 'tab:olive', 'tab:cyan']), None, len(dPFDDD[0:10])))\n",
    "ax = dPFDDD[0:10].plot(x=\"IDEMPRESA\", y=\"Porcentaje\", kind='bar', stacked=True, color=my_colors)\n",
    "ax.set_ylabel(\"% Recorridos sin Finalizar\")\n",
    "ax.set_title(\"Percentage of companies wiht unsuccessful routes\")\n",
    "for patch in ax.patches:\n",
    "    box = patch.get_bbox()\n",
    "    value = \"{:.2f}\".format(box.y1)        \n",
    "    ax.annotate(value, (box.x0, box.y1))"
   ]
  },
  {
   "cell_type": "code",
   "execution_count": 111,
   "metadata": {},
   "outputs": [
    {
     "data": {
      "text/html": [
       "<div>\n",
       "<style scoped>\n",
       "    .dataframe tbody tr th:only-of-type {\n",
       "        vertical-align: middle;\n",
       "    }\n",
       "\n",
       "    .dataframe tbody tr th {\n",
       "        vertical-align: top;\n",
       "    }\n",
       "\n",
       "    .dataframe thead th {\n",
       "        text-align: right;\n",
       "    }\n",
       "</style>\n",
       "<table border=\"1\" class=\"dataframe\">\n",
       "  <thead>\n",
       "    <tr style=\"text-align: right;\">\n",
       "      <th></th>\n",
       "      <th>index</th>\n",
       "      <th>IDEMPRESA</th>\n",
       "      <th>SECUENCIARECORRIDO</th>\n",
       "      <th>Porcentaje</th>\n",
       "    </tr>\n",
       "  </thead>\n",
       "  <tbody>\n",
       "    <tr>\n",
       "      <th>0</th>\n",
       "      <td>0</td>\n",
       "      <td>14</td>\n",
       "      <td>580</td>\n",
       "      <td>0.339578</td>\n",
       "    </tr>\n",
       "    <tr>\n",
       "      <th>1</th>\n",
       "      <td>1</td>\n",
       "      <td>13</td>\n",
       "      <td>341</td>\n",
       "      <td>0.199649</td>\n",
       "    </tr>\n",
       "    <tr>\n",
       "      <th>2</th>\n",
       "      <td>2</td>\n",
       "      <td>4</td>\n",
       "      <td>128</td>\n",
       "      <td>0.074941</td>\n",
       "    </tr>\n",
       "    <tr>\n",
       "      <th>3</th>\n",
       "      <td>3</td>\n",
       "      <td>42</td>\n",
       "      <td>54</td>\n",
       "      <td>0.031616</td>\n",
       "    </tr>\n",
       "    <tr>\n",
       "      <th>4</th>\n",
       "      <td>4</td>\n",
       "      <td>25</td>\n",
       "      <td>53</td>\n",
       "      <td>0.031030</td>\n",
       "    </tr>\n",
       "  </tbody>\n",
       "</table>\n",
       "</div>"
      ],
      "text/plain": [
       "   index  IDEMPRESA  SECUENCIARECORRIDO  Porcentaje\n",
       "0      0         14                 580    0.339578\n",
       "1      1         13                 341    0.199649\n",
       "2      2          4                 128    0.074941\n",
       "3      3         42                  54    0.031616\n",
       "4      4         25                  53    0.031030"
      ]
     },
     "execution_count": 111,
     "metadata": {},
     "output_type": "execute_result"
    }
   ],
   "source": [
    "dPFDDD.head()"
   ]
  },
  {
   "cell_type": "code",
   "execution_count": 149,
   "metadata": {},
   "outputs": [
    {
     "data": {
      "text/html": [
       "<div>\n",
       "<style scoped>\n",
       "    .dataframe tbody tr th:only-of-type {\n",
       "        vertical-align: middle;\n",
       "    }\n",
       "\n",
       "    .dataframe tbody tr th {\n",
       "        vertical-align: top;\n",
       "    }\n",
       "\n",
       "    .dataframe thead th {\n",
       "        text-align: right;\n",
       "    }\n",
       "</style>\n",
       "<table border=\"1\" class=\"dataframe\">\n",
       "  <thead>\n",
       "    <tr style=\"text-align: right;\">\n",
       "      <th></th>\n",
       "      <th>SECUENCIARECORRIDO</th>\n",
       "      <th>Porcentaje</th>\n",
       "    </tr>\n",
       "    <tr>\n",
       "      <th>IDVEHICULO</th>\n",
       "      <th></th>\n",
       "      <th></th>\n",
       "    </tr>\n",
       "  </thead>\n",
       "  <tbody>\n",
       "    <tr>\n",
       "      <th>1159</th>\n",
       "      <td>22</td>\n",
       "      <td>0.012881</td>\n",
       "    </tr>\n",
       "    <tr>\n",
       "      <th>6185</th>\n",
       "      <td>20</td>\n",
       "      <td>0.011710</td>\n",
       "    </tr>\n",
       "    <tr>\n",
       "      <th>6186</th>\n",
       "      <td>18</td>\n",
       "      <td>0.010539</td>\n",
       "    </tr>\n",
       "    <tr>\n",
       "      <th>973</th>\n",
       "      <td>16</td>\n",
       "      <td>0.009368</td>\n",
       "    </tr>\n",
       "    <tr>\n",
       "      <th>6995</th>\n",
       "      <td>11</td>\n",
       "      <td>0.006440</td>\n",
       "    </tr>\n",
       "    <tr>\n",
       "      <th>2990</th>\n",
       "      <td>11</td>\n",
       "      <td>0.006440</td>\n",
       "    </tr>\n",
       "    <tr>\n",
       "      <th>6346</th>\n",
       "      <td>10</td>\n",
       "      <td>0.005855</td>\n",
       "    </tr>\n",
       "    <tr>\n",
       "      <th>2738</th>\n",
       "      <td>9</td>\n",
       "      <td>0.005269</td>\n",
       "    </tr>\n",
       "    <tr>\n",
       "      <th>2773</th>\n",
       "      <td>9</td>\n",
       "      <td>0.005269</td>\n",
       "    </tr>\n",
       "    <tr>\n",
       "      <th>2945</th>\n",
       "      <td>9</td>\n",
       "      <td>0.005269</td>\n",
       "    </tr>\n",
       "  </tbody>\n",
       "</table>\n",
       "</div>"
      ],
      "text/plain": [
       "            SECUENCIARECORRIDO  Porcentaje\n",
       "IDVEHICULO                                \n",
       "1159                        22    0.012881\n",
       "6185                        20    0.011710\n",
       "6186                        18    0.010539\n",
       "973                         16    0.009368\n",
       "6995                        11    0.006440\n",
       "2990                        11    0.006440\n",
       "6346                        10    0.005855\n",
       "2738                         9    0.005269\n",
       "2773                         9    0.005269\n",
       "2945                         9    0.005269"
      ]
     },
     "execution_count": 149,
     "metadata": {},
     "output_type": "execute_result"
    }
   ],
   "source": [
    "#VEHICULOS EN ESTADO N\n",
    "dPR = df[df['RECORRIDOFINALIZADO'] == \"N\"].groupby('IDVEHICULO').agg({'SECUENCIARECORRIDO': pd.Series.nunique, })\n",
    "dPR['Porcentaje'] = dPR['SECUENCIARECORRIDO']/SECU_N\n",
    "dPR.sort_values(\"SECUENCIARECORRIDO\", axis = 0, ascending = False, \n",
    "                                    inplace = True, na_position ='last') \n",
    "dPR.head(10)"
   ]
  },
  {
   "cell_type": "code",
   "execution_count": 155,
   "metadata": {},
   "outputs": [
    {
     "data": {
      "image/png": "[encoded data removed]",
      "text/plain": [
       "<Figure size 432x288 with 1 Axes>"
      ]
     },
     "metadata": {
      "needs_background": "light"
     },
     "output_type": "display_data"
    }
   ],
   "source": [
    "#PLOT VEHICULOS ESTADO N\n",
    "from itertools import cycle, islice\n",
    "my_colors = list(islice(cycle(['tab:blue', 'tab:orange', 'tab:green', 'tab:red', 'tab:purple', 'tab:brown', 'tab:pink', 'tab:gray', 'tab:olive', 'tab:cyan']), None, len(dPR[0:10])))\n",
    "ax = dPR[0:10].plot(x=\"IDVEHICULO\", y=\"Porcentaje\", kind='bar', stacked=True, color=my_colors)\n",
    "ax.set_ylabel(\"% Recorridos sin Finalizar\")\n",
    "ax.set_title(\"Percentage of vehicles wiht unsuccessful routes\")\n",
    "for patch in ax.patches:\n",
    "    box = patch.get_bbox()\n",
    "    value = \"{:.3f}\".format(box.y1)        \n",
    "    ax.annotate(value, (box.x0, box.y1))"
   ]
  },
  {
   "cell_type": "code",
   "execution_count": 156,
   "metadata": {},
   "outputs": [],
   "source": [
    "#TOP DE VEHICULOS CON RECORRIDOS N\n",
    "dPR.reset_index(inplace=True)"
   ]
  }
 ],
 "metadata": {
  "kernelspec": {
   "display_name": "Python 3",
   "language": "python",
   "name": "python3"
  },
  "language_info": {
   "codemirror_mode": {
    "name": "ipython",
    "version": 3
   },
   "file_extension": ".py",
   "mimetype": "text/x-python",
   "name": "python",
   "nbconvert_exporter": "python",
   "pygments_lexer": "ipython3",
   "version": "3.7.6"
  }
 },
 "nbformat": 4,
 "nbformat_minor": 4
}

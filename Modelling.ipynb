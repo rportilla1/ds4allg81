{
 "cells": [
  {
   "cell_type": "markdown",
   "metadata": {
    "id": "XQB4wk9cayL6"
   },
   "source": [
    "# Modelling\n",
    "TEAM 81: AMVA"
   ]
  },
  {
   "cell_type": "code",
   "execution_count": null,
   "metadata": {
    "id": "-IOJntFGayL7"
   },
   "outputs": [],
   "source": [
    "import os\n",
    "from time import time, strftime, gmtime\n",
    "\n",
    "import pandas as pd\n",
    "from pykml.parser import parse\n",
    "\n",
    "# Visualizaction\n",
    "import matplotlib.pyplot as plt\n",
    "from matplotlib.patches import Rectangle\n",
    "import seaborn as sns\n",
    "\n",
    "# ML\n",
    "from sklearn.neighbors import KNeighborsClassifier"
   ]
  },
  {
   "cell_type": "markdown",
   "metadata": {
    "id": "EG5vRZdRayL-"
   },
   "source": [
    "## Setup"
   ]
  },
  {
   "cell_type": "code",
   "execution_count": null,
   "metadata": {
    "id": "fVgGo24XayL-",
    "outputId": "c81afde6-1408-44cd-ad51-7776b93c5cc8"
   },
   "outputs": [
    {
     "name": "stdout",
     "output_type": "stream",
     "text": [
      "Project stage:  Modelling\n"
     ]
    }
   ],
   "source": [
    "PATH = r'C:\\Users\\USER\\OneDrive\\DS4A\\Project'\n",
    "os.chdir(PATH)\n",
    "\n",
    "# Parameters\n",
    "stage = 'Modelling'\n",
    "save_figures = True\n",
    "PATH_PLOT = rf'Plots\\{stage}'\n",
    "if not os.path.exists(rf'{PATH}\\{PATH_PLOT}'):\n",
    "    os.makedirs(PATH_PLOT)\n",
    "    print(rf'{PATH}\\{PATH_PLOT} has been created')\n",
    "\n",
    "startTIME = time()\n",
    "\n",
    "print('Project stage: ', stage)"
   ]
  },
  {
   "cell_type": "code",
   "execution_count": null,
   "metadata": {
    "id": "ad0_KTBgayMC"
   },
   "outputs": [],
   "source": [
    "sns.set()\n",
    "plt.rcParams['figure.figsize'] = (15, 5)\n",
    "plt.rcParams['axes.titlepad'] = 16"
   ]
  },
  {
   "cell_type": "markdown",
   "metadata": {
    "id": "wmA_vRkLayME"
   },
   "source": [
    "## Load Data "
   ]
  },
  {
   "cell_type": "code",
   "execution_count": null,
   "metadata": {
    "id": "a2z4JTk1ayME",
    "outputId": "dc3fd645-ca38-4818-8abe-6698a22ca474",
    "scrolled": true
   },
   "outputs": [
    {
     "data": {
      "text/plain": [
       "['CSV_INICIAL',\n",
       " 'data28092020',\n",
       " 'Detalle recorridos 22 sept.csv',\n",
       " 'Diccionario de datos.docx',\n",
       " 'MAESTROS',\n",
       " 'RUTAS']"
      ]
     },
     "execution_count": 4,
     "metadata": {
      "tags": []
     },
     "output_type": "execute_result"
    }
   ],
   "source": [
    "os.listdir(r'Data')"
   ]
  },
  {
   "cell_type": "markdown",
   "metadata": {
    "id": "K3WfLRn-ayMG"
   },
   "source": [
    "### RUTAS"
   ]
  },
  {
   "cell_type": "code",
   "execution_count": null,
   "metadata": {
    "id": "Z1Vz-7XvayMH",
    "outputId": "e2af7936-e59a-4901-f313-52097be091f8"
   },
   "outputs": [
    {
     "name": "stdout",
     "output_type": "stream",
     "text": [
      "Wall time: 1.17 s\n"
     ]
    }
   ],
   "source": [
    "%%time\n",
    "\n",
    "dtypes = {\n",
    "    'LATITUD': 'float64',\n",
    "    'LONGITUD': 'float64',\n",
    "    'CODIGORUTA': 'uint32'\n",
    "}\n",
    "\n",
    "def KML_dataframe(filename):\n",
    "    file_location = rf'Data\\RUTAS\\{filename}'\n",
    "    with open(file_location) as f:\n",
    "        KML = parse(f).getroot()\n",
    "        \n",
    "        try:\n",
    "            latlong = str(KML.Document.Placemark.MultiGeometry.LineString.coordinates).strip()\n",
    "        except:\n",
    "            try:\n",
    "                latlong = str(KML.Document.Placemark.LineString.coordinates).strip()\n",
    "            except:\n",
    "                return pd.DataFrame(\n",
    "                        [[999, 999, str(filename.split('.')[0])]],\n",
    "                        columns=['LONGITUD', 'LATITUD', 'CODIGORUTA'],\n",
    "                       ).astype(dtypes)\n",
    "            \n",
    "        df = pd.DataFrame(\n",
    "            [row.split(',')[:2] + [filename.split('.')[0]] for row in latlong.split(' ')],\n",
    "            columns=['LONGITUD', 'LATITUD', 'CODIGORUTA'],\n",
    "        ).astype(dtypes)\n",
    "        \n",
    "        return df\n",
    "\n",
    "    \n",
    "RUTAS = pd.concat(\n",
    "    map(\n",
    "        lambda filename: KML_dataframe(filename),\n",
    "        [file for file in  os.listdir(r'Data\\RUTAS')]\n",
    "    )\n",
    ").reset_index(drop=True)[['LATITUD', 'LONGITUD', 'CODIGORUTA']]"
   ]
  },
  {
   "cell_type": "code",
   "execution_count": null,
   "metadata": {
    "id": "eJNrqr1RayMK",
    "outputId": "43e2714d-3c7f-49c8-8649-b3b5fb42c112"
   },
   "outputs": [
    {
     "name": "stdout",
     "output_type": "stream",
     "text": [
      "Files with Problems: \n"
     ]
    },
    {
     "data": {
      "text/html": [
       "<div>\n",
       "<style scoped>\n",
       "    .dataframe tbody tr th:only-of-type {\n",
       "        vertical-align: middle;\n",
       "    }\n",
       "\n",
       "    .dataframe tbody tr th {\n",
       "        vertical-align: top;\n",
       "    }\n",
       "\n",
       "    .dataframe thead th {\n",
       "        text-align: right;\n",
       "    }\n",
       "</style>\n",
       "<table border=\"1\" class=\"dataframe\">\n",
       "  <thead>\n",
       "    <tr style=\"text-align: right;\">\n",
       "      <th></th>\n",
       "      <th>LATITUD</th>\n",
       "      <th>LONGITUD</th>\n",
       "      <th>CODIGORUTA</th>\n",
       "    </tr>\n",
       "  </thead>\n",
       "  <tbody>\n",
       "    <tr>\n",
       "      <th>85009</th>\n",
       "      <td>999.0</td>\n",
       "      <td>999.0</td>\n",
       "      <td>52030</td>\n",
       "    </tr>\n",
       "  </tbody>\n",
       "</table>\n",
       "</div>"
      ],
      "text/plain": [
       "       LATITUD  LONGITUD  CODIGORUTA\n",
       "85009    999.0     999.0       52030"
      ]
     },
     "metadata": {
      "tags": []
     },
     "output_type": "display_data"
    }
   ],
   "source": [
    "if RUTAS[RUTAS['LATITUD'] == 999].shape[0]>0:\n",
    "    print('Files with Problems: ')\n",
    "    display(RUTAS[RUTAS['LATITUD'] == 999])"
   ]
  },
  {
   "cell_type": "markdown",
   "metadata": {
    "id": "8lQQQY0qayMM"
   },
   "source": [
    "### BUS"
   ]
  },
  {
   "cell_type": "code",
   "execution_count": null,
   "metadata": {
    "id": "3t-vyrQBayMN",
    "outputId": "4c93e526-a26c-43b0-e941-f157b7755f64"
   },
   "outputs": [
    {
     "name": "stdout",
     "output_type": "stream",
     "text": [
      "Wall time: 16.2 s\n"
     ]
    }
   ],
   "source": [
    "%%time\n",
    "\n",
    "dtypes = {\n",
    "    'SECUENCIARECORRIDO': 'uint32',\n",
    "    'CONSECUTIVOREGISTRO': 'uint32',\n",
    "    'RECORRIDOFINALIZADO': 'category',\n",
    "    'IDVEHICULO': 'uint16',\n",
    "    'IDEMPRESA': 'uint8',\n",
    "    'CODIGORUTA': 'uint32',\n",
    "    'LATITUD': 'float64',\n",
    "    'LONGITUD': 'float64',\n",
    "    'VELOCIDAD': 'uint16',\n",
    "    'ESTADOPUERTAS': 'category',\n",
    "    'SUBENDELANTERA': 'uint8',\n",
    "    'SUBENTRASERA': 'uint8',\n",
    "    'BAJANDELANTERA': 'uint8',\n",
    "    'BAJANTRASERA': 'uint8',\n",
    "    'ACUMULADOPASAJEROS': 'uint16'\n",
    "}\n",
    "\n",
    "BUS = pd.read_csv(\n",
    "    r'Data\\Detalle recorridos 22 sept.csv',\n",
    "    parse_dates=['FECHAREGISTRO'],\n",
    "    infer_datetime_format=True,\n",
    "    dtype=dtypes\n",
    ")\n",
    "\n",
    "BUS['MARGENDESVIACION'] =\\\n",
    "BUS['MARGENDESVIACION'].str.replace(',', '.').astype('float16')"
   ]
  },
  {
   "cell_type": "markdown",
   "metadata": {
    "id": "02LTwFCXayMQ"
   },
   "source": [
    "### EMP_FLOTA"
   ]
  },
  {
   "cell_type": "code",
   "execution_count": null,
   "metadata": {
    "id": "jMdC1bHYayMQ"
   },
   "outputs": [],
   "source": [
    "# %%time\n",
    "\n",
    "# dtypes = {\n",
    "#     'IDEMPRESA': 'uint8',\n",
    "#     'NROIDENTIFICACION': 'uint32',\n",
    "#     'IDENTIDADOPERA': 'uint8'\n",
    "# }\n",
    "# EMPRESAS = pd.read_csv(\n",
    "#     r'Data\\MAESTROS\\Empresas de transporte TPC.csv',\n",
    "#     engine='python',\n",
    "#     dtype=dtypes\n",
    "# )\n",
    "\n",
    "\n",
    "# dtypes = {\n",
    "#     'IDVEHICULO': 'uint16',\n",
    "#     'MODELO': 'uint16',\n",
    "#     'CAPPASAJEROS': 'uint8',\n",
    "#     'CAPPASAJEROSPIE': 'uint8',\n",
    "#     'CAPPASAJEROSSENTADOS': 'uint8',\n",
    "#     'IDEMPRESA': 'uint8',\n",
    "#     'IDENTIDADOPERA': 'uint8'\n",
    "# }\n",
    "# FLOTA = pd.read_csv(\n",
    "#     r'Data\\MAESTROS\\Vehiculos TPC por empresa.csv',\n",
    "#     engine='python',\n",
    "#     dtype=dtypes\n",
    "# )\n",
    "\n",
    "\n",
    "# EMP_FLOTA =\\\n",
    "# pd.merge(\n",
    "#     EMPRESAS,\n",
    "#     FLOTA.drop(columns=['NOMBRES']),\n",
    "#     how='left',\n",
    "#     on=['IDEMPRESA', 'IDENTIDADOPERA']\n",
    "# ) \n",
    "\n",
    "# del EMPRESAS, FLOTA"
   ]
  },
  {
   "cell_type": "markdown",
   "metadata": {
    "id": "vFhvn31fayMS"
   },
   "source": [
    "## Aditional Filtering"
   ]
  },
  {
   "cell_type": "code",
   "execution_count": null,
   "metadata": {
    "id": "F8wPQgMDayMT",
    "outputId": "b2f60b95-e903-404d-fb44-3989ac85bf12"
   },
   "outputs": [
    {
     "name": "stdout",
     "output_type": "stream",
     "text": [
      "BUS:  (1716313, 17)\n"
     ]
    },
    {
     "data": {
      "text/html": [
       "<div>\n",
       "<style scoped>\n",
       "    .dataframe tbody tr th:only-of-type {\n",
       "        vertical-align: middle;\n",
       "    }\n",
       "\n",
       "    .dataframe tbody tr th {\n",
       "        vertical-align: top;\n",
       "    }\n",
       "\n",
       "    .dataframe thead th {\n",
       "        text-align: right;\n",
       "    }\n",
       "</style>\n",
       "<table border=\"1\" class=\"dataframe\">\n",
       "  <thead>\n",
       "    <tr style=\"text-align: right;\">\n",
       "      <th></th>\n",
       "      <th>SECUENCIARECORRIDO</th>\n",
       "      <th>CONSECUTIVOREGISTRO</th>\n",
       "      <th>RECORRIDOFINALIZADO</th>\n",
       "      <th>IDVEHICULO</th>\n",
       "      <th>IDEMPRESA</th>\n",
       "      <th>CODIGORUTA</th>\n",
       "      <th>FECHAREGISTRO</th>\n",
       "      <th>LATITUD</th>\n",
       "      <th>LONGITUD</th>\n",
       "      <th>VELOCIDAD</th>\n",
       "      <th>ESTADOPUERTAS</th>\n",
       "      <th>MARGENDESVIACION</th>\n",
       "      <th>SUBENDELANTERA</th>\n",
       "      <th>SUBENTRASERA</th>\n",
       "      <th>BAJANDELANTERA</th>\n",
       "      <th>BAJANTRASERA</th>\n",
       "      <th>ACUMULADOPASAJEROS</th>\n",
       "    </tr>\n",
       "  </thead>\n",
       "  <tbody>\n",
       "    <tr>\n",
       "      <th>1588730</th>\n",
       "      <td>231261090</td>\n",
       "      <td>16</td>\n",
       "      <td>S</td>\n",
       "      <td>6420</td>\n",
       "      <td>2</td>\n",
       "      <td>2001</td>\n",
       "      <td>2020-09-22 11:34:34</td>\n",
       "      <td>6.336932</td>\n",
       "      <td>-75.569502</td>\n",
       "      <td>0</td>\n",
       "      <td>DCTA</td>\n",
       "      <td>1.530273</td>\n",
       "      <td>0</td>\n",
       "      <td>0</td>\n",
       "      <td>0</td>\n",
       "      <td>0</td>\n",
       "      <td>0</td>\n",
       "    </tr>\n",
       "    <tr>\n",
       "      <th>1588731</th>\n",
       "      <td>231261090</td>\n",
       "      <td>12</td>\n",
       "      <td>S</td>\n",
       "      <td>6420</td>\n",
       "      <td>2</td>\n",
       "      <td>2001</td>\n",
       "      <td>2020-09-22 11:32:54</td>\n",
       "      <td>6.336076</td>\n",
       "      <td>-75.570948</td>\n",
       "      <td>16</td>\n",
       "      <td>DCTA</td>\n",
       "      <td>1.219727</td>\n",
       "      <td>0</td>\n",
       "      <td>0</td>\n",
       "      <td>0</td>\n",
       "      <td>0</td>\n",
       "      <td>0</td>\n",
       "    </tr>\n",
       "  </tbody>\n",
       "</table>\n",
       "</div>"
      ],
      "text/plain": [
       "         SECUENCIARECORRIDO  CONSECUTIVOREGISTRO RECORRIDOFINALIZADO  \\\n",
       "1588730           231261090                   16                   S   \n",
       "1588731           231261090                   12                   S   \n",
       "\n",
       "         IDVEHICULO  IDEMPRESA  CODIGORUTA       FECHAREGISTRO   LATITUD  \\\n",
       "1588730        6420          2        2001 2020-09-22 11:34:34  6.336932   \n",
       "1588731        6420          2        2001 2020-09-22 11:32:54  6.336076   \n",
       "\n",
       "          LONGITUD  VELOCIDAD ESTADOPUERTAS  MARGENDESVIACION  SUBENDELANTERA  \\\n",
       "1588730 -75.569502          0          DCTA          1.530273               0   \n",
       "1588731 -75.570948         16          DCTA          1.219727               0   \n",
       "\n",
       "         SUBENTRASERA  BAJANDELANTERA  BAJANTRASERA  ACUMULADOPASAJEROS  \n",
       "1588730             0               0             0                   0  \n",
       "1588731             0               0             0                   0  "
      ]
     },
     "metadata": {
      "tags": []
     },
     "output_type": "display_data"
    },
    {
     "name": "stdout",
     "output_type": "stream",
     "text": [
      "RUTAS:  (120645, 3)\n"
     ]
    },
    {
     "data": {
      "text/html": [
       "<div>\n",
       "<style scoped>\n",
       "    .dataframe tbody tr th:only-of-type {\n",
       "        vertical-align: middle;\n",
       "    }\n",
       "\n",
       "    .dataframe tbody tr th {\n",
       "        vertical-align: top;\n",
       "    }\n",
       "\n",
       "    .dataframe thead th {\n",
       "        text-align: right;\n",
       "    }\n",
       "</style>\n",
       "<table border=\"1\" class=\"dataframe\">\n",
       "  <thead>\n",
       "    <tr style=\"text-align: right;\">\n",
       "      <th></th>\n",
       "      <th>LATITUD</th>\n",
       "      <th>LONGITUD</th>\n",
       "      <th>CODIGORUTA</th>\n",
       "    </tr>\n",
       "  </thead>\n",
       "  <tbody>\n",
       "    <tr>\n",
       "      <th>29596</th>\n",
       "      <td>6.338864</td>\n",
       "      <td>-75.568773</td>\n",
       "      <td>2001</td>\n",
       "    </tr>\n",
       "    <tr>\n",
       "      <th>29597</th>\n",
       "      <td>6.338911</td>\n",
       "      <td>-75.568778</td>\n",
       "      <td>2001</td>\n",
       "    </tr>\n",
       "  </tbody>\n",
       "</table>\n",
       "</div>"
      ],
      "text/plain": [
       "        LATITUD   LONGITUD  CODIGORUTA\n",
       "29596  6.338864 -75.568773        2001\n",
       "29597  6.338911 -75.568778        2001"
      ]
     },
     "metadata": {
      "tags": []
     },
     "output_type": "display_data"
    }
   ],
   "source": [
    "# Drop KML with Problems\n",
    "RUTAS = RUTAS[RUTAS['LATITUD'] != 999]\n",
    "\n",
    "rutas_wKML = sorted(set(BUS['CODIGORUTA']).intersection(set(RUTAS['CODIGORUTA'])))\n",
    "BUS = BUS[BUS['CODIGORUTA'].isin(rutas_wKML)]\n",
    "RUTAS = RUTAS[RUTAS['CODIGORUTA'].isin(rutas_wKML)]\n",
    "\n",
    "print('BUS: ', BUS.shape)\n",
    "display(BUS.head(2))\n",
    "\n",
    "print('RUTAS: ', RUTAS.shape)\n",
    "display(RUTAS.head(2))"
   ]
  },
  {
   "cell_type": "markdown",
   "metadata": {
    "id": "8Yx_Wh5tayMV"
   },
   "source": [
    "## Classification Model -Current Route"
   ]
  },
  {
   "cell_type": "code",
   "execution_count": null,
   "metadata": {
    "id": "sX8ix_ygayMV",
    "outputId": "e6052952-4fbb-4af2-8e09-cbf95b3f1522"
   },
   "outputs": [
    {
     "name": "stdout",
     "output_type": "stream",
     "text": [
      "CODIGORUTA:  4013\n",
      "SECUENCIARECORRIDO:  231222424\n"
     ]
    }
   ],
   "source": [
    "# REPORTED ROUTE\n",
    "route_cod = BUS['CODIGORUTA'].sample().iloc[0]\n",
    "print('CODIGORUTA: ', route_cod)\n",
    "reported = RUTAS[RUTAS['CODIGORUTA'] == route_cod]\n",
    "\n",
    "# CURRENT ROUTE\n",
    "current = BUS[BUS['CODIGORUTA'] == route_cod]\n",
    "sequence_cod = current['SECUENCIARECORRIDO'].sample().iloc[0]\n",
    "current = BUS[BUS['SECUENCIARECORRIDO'] == sequence_cod]\n",
    "print('SECUENCIARECORRIDO: ', sequence_cod)\n",
    "\n",
    "# TO FILTER ...\n",
    "vmin = current[['LONGITUD', 'LATITUD']].min().values\n",
    "vmax = current[['LONGITUD', 'LATITUD']].max().values\n",
    "\n",
    "long_cond_r = (RUTAS['LONGITUD'] > vmin[0]) & (RUTAS['LONGITUD'] < vmax[0])\n",
    "lat_cond_r = (RUTAS['LATITUD'] > vmin[1]) & (RUTAS['LATITUD'] < vmax[1])\n",
    "\n",
    "long_cond_c = (current['LONGITUD'] > vmin[0]) & (current['LONGITUD'] < vmax[0])\n",
    "lat_cond_c = (current['LATITUD'] > vmin[1]) & (current['LATITUD'] < vmax[1])"
   ]
  },
  {
   "cell_type": "code",
   "execution_count": null,
   "metadata": {
    "id": "athtU-OAayMX"
   },
   "outputs": [],
   "source": [
    "def plot_compare(RUTAS_df, current_df, draw_rectagle): \n",
    "    \"\"\"\n",
    "    Plot Current vs Reported Route\n",
    "    \n",
    "    input:\n",
    "        RUTAS_df: DataFrame\n",
    "        current_df:  DataFrame\n",
    "        draw_rectagle: bool\n",
    "    output:\n",
    "        display plot\n",
    "    \"\"\"    \n",
    "    # All ROUTES\n",
    "    plt.scatter(\n",
    "        'LONGITUD', \n",
    "        'LATITUD',\n",
    "        data=RUTAS_df,\n",
    "        label='KML Data'\n",
    "    );\n",
    "\n",
    "    # REPORTED ROUTE\n",
    "    plt.plot(\n",
    "        'LONGITUD', \n",
    "        'LATITUD',\n",
    "        '--',\n",
    "        c='orange',\n",
    "        data=reported,\n",
    "        label=f'{route_cod}'\n",
    "    );\n",
    "\n",
    "    if draw_rectagle:\n",
    "        rect = Rectangle((vmin[0],vmin[1]),\n",
    "                         vmax[0] - vmin[0],\n",
    "                         vmax[1] - vmin[1],\n",
    "                         edgecolor='r', \n",
    "                         facecolor=\"none\")\n",
    "        plt.gca().add_patch(rect);\n",
    "        \n",
    "\n",
    "    # CURRENT ROUTE\n",
    "    plt.scatter(\n",
    "        'LONGITUD', \n",
    "        'LATITUD',\n",
    "        c='r',\n",
    "        data=current_df,\n",
    "        label='Current'\n",
    "    );\n",
    "    \n",
    "    plt.title('Current vs Reported Route')\n",
    "    plt.legend();\n",
    "    \n",
    "    if draw_rectagle: filename = rf'{PATH_PLOT}\\Current_Reported'\n",
    "    else:             filename = rf'{PATH_PLOT}\\Current_Reported_zoom'\n",
    "        \n",
    "    if save_figures:\n",
    "        plt.savefig(filename, dpi=300, bbox_inches='tight')\n",
    "        \n",
    "        "
   ]
  },
  {
   "cell_type": "code",
   "execution_count": null,
   "metadata": {
    "id": "VikZTHJnayMa",
    "outputId": "0f6d1869-1089-40a7-c9e7-499553c59f05"
   },
   "outputs": [
    {
     "data": {
      "image/png": "[encoded data removed]",
      "text/plain": [
       "<Figure size 1080x360 with 1 Axes>"
      ]
     },
     "metadata": {
      "tags": []
     },
     "output_type": "display_data"
    }
   ],
   "source": [
    "plot_compare(RUTAS, current, True)"
   ]
  },
  {
   "cell_type": "code",
   "execution_count": null,
   "metadata": {
    "id": "cDys0m46ayMc",
    "outputId": "7dc58dfc-2c4a-4426-f4fb-43a7d3fc81e8",
    "scrolled": false
   },
   "outputs": [
    {
     "data": {
      "image/png": "[encoded data removed]",
      "text/plain": [
       "<Figure size 1080x360 with 1 Axes>"
      ]
     },
     "metadata": {
      "tags": []
     },
     "output_type": "display_data"
    }
   ],
   "source": [
    "plot_compare(\n",
    "    RUTAS[long_cond_r & lat_cond_r], \n",
    "    current[long_cond_c & lat_cond_c],\n",
    "    False\n",
    ")"
   ]
  },
  {
   "cell_type": "code",
   "execution_count": null,
   "metadata": {
    "id": "OGGe3l1layMe"
   },
   "outputs": [],
   "source": [
    "def predict_CODIGORUTA(long, lat):\n",
    "    \"\"\"\n",
    "    Filter RUTAS with MinMax LongLat from current route, \n",
    "    then predict probability using KNN \n",
    "    and return CODIGORUTA with highest probability sum.\n",
    "    \n",
    "    input:\n",
    "        long: list\n",
    "        lat:  list\n",
    "    output:\n",
    "        prediction: int\n",
    "    \"\"\"\n",
    "    try:\n",
    "        long_cond = (RUTAS['LONGITUD'] > min(long)) & (RUTAS['LONGITUD'] < max(long))\n",
    "        lat_cond  = (RUTAS['LATITUD']  > min(lat))  & (RUTAS['LATITUD']  < max(lat))\n",
    "        RUTAS_filtered = RUTAS[long_cond & lat_cond]#[['LONGITUD', 'LATITUD', 'CODIGORUTA']]\n",
    "\n",
    "        knn = KNeighborsClassifier(n_neighbors=5)\n",
    "        knn.fit(RUTAS_filtered[['LONGITUD', 'LATITUD']], \n",
    "                RUTAS_filtered['CODIGORUTA'])\n",
    "\n",
    "        pred_prob = knn.predict_proba(list(zip(long, lat)))\n",
    "        prediction = sorted(zip(pred_prob.sum(axis=0), knn.classes_), \n",
    "                            reverse=True)[0][1]\n",
    "    except:\n",
    "        prediction = 'ERROR'\n",
    "    \n",
    "    return prediction"
   ]
  },
  {
   "cell_type": "markdown",
   "metadata": {
    "id": "pJbGls4nayMg"
   },
   "source": [
    "## Predict"
   ]
  },
  {
   "cell_type": "code",
   "execution_count": null,
   "metadata": {
    "id": "JvPmaisXayMh",
    "outputId": "bb2fd1a9-b69e-4855-8932-d19dc4853749",
    "scrolled": true
   },
   "outputs": [
    {
     "name": "stdout",
     "output_type": "stream",
     "text": [
      "Wall time: 2min 13s\n"
     ]
    }
   ],
   "source": [
    "%%time\n",
    "predicted_route =\\\n",
    "BUS[['LONGITUD', 'LATITUD', 'CODIGORUTA', 'SECUENCIARECORRIDO']]\\\n",
    "   .groupby(['SECUENCIARECORRIDO', 'CODIGORUTA'])\\\n",
    "   .agg(list).apply(lambda c: predict_CODIGORUTA(c['LONGITUD'], c['LATITUD']), \n",
    "                    axis=1)"
   ]
  },
  {
   "cell_type": "code",
   "execution_count": null,
   "metadata": {
    "id": "Fd3j_bzGayMj"
   },
   "outputs": [],
   "source": [
    "seq_route = BUS.groupby(['SECUENCIARECORRIDO', 'CODIGORUTA']).agg(lambda g: 0)\n",
    "cm = pd.crosstab(seq_route.index.get_level_values('CODIGORUTA'), \n",
    "                 predicted_route)"
   ]
  },
  {
   "cell_type": "code",
   "execution_count": null,
   "metadata": {
    "id": "3nSib_CzayMm",
    "outputId": "8e845137-10d4-4750-eea7-cb083504ce63"
   },
   "outputs": [
    {
     "data": {
      "image/png": "[encoded data removed]",
      "text/plain": [
       "<Figure size 1296x576 with 2 Axes>"
      ]
     },
     "metadata": {
      "tags": []
     },
     "output_type": "display_data"
    }
   ],
   "source": [
    "plt.figure(figsize=(18, 8))\n",
    "sns.heatmap(\n",
    "    cm/cm.sum(axis=1),\n",
    "    cmap='viridis',\n",
    "    vmin=0,\n",
    "    vmax=1,\n",
    "    xticklabels=False,\n",
    "    yticklabels=False\n",
    ")\n",
    "plt.title('Normalized \\nConfusion Matrix');\n",
    "\n",
    "if save_figures:\n",
    "    plt.savefig(rf'{PATH_PLOT}\\ConfusionMatrix', \n",
    "                dpi=300,\n",
    "                bbox_inches='tight')"
   ]
  },
  {
   "cell_type": "code",
   "execution_count": null,
   "metadata": {
    "id": "JImmMSN_ayMo",
    "outputId": "29da86a9-e30c-4f72-c8cd-292b7a06ec51"
   },
   "outputs": [
    {
     "name": "stdout",
     "output_type": "stream",
     "text": [
      "reported != predicted:\n",
      "\t 2008 2009\n",
      "\t 2009 2008\n",
      "\t 4016 ERROR\n",
      "\t 4025 4013\n",
      "\t 5306 5407\n",
      "\t 5401 5403\n",
      "\t 5507 5501\n",
      "\t 5509 5507\n",
      "\t 5901 4004\n",
      "\t 7102 7202\n",
      "\t 7103 7203\n",
      "\t 7201 7101\n",
      "\t 7203 7102\n",
      "\t 7305 73050\n",
      "\t 9102 9104\n",
      "\t 9103 9106\n",
      "\t 9107 9207\n",
      "\t 9201 9108\n",
      "\t 9202 9205\n",
      "\t 9203 9206\n",
      "\t 9205 9105\n",
      "\t 9206 9104\n",
      "\t 9207 9107\n",
      "\t 9208 9108\n",
      "\t 9209 9109\n",
      "\t 9313 9105\n",
      "\t 9315 9104\n",
      "\t 20120 200600\n",
      "\t 41030 41160\n",
      "\t 41150 49170\n",
      "\t 42080 42130\n",
      "\t 49110 5901\n",
      "\t 52010 52020\n",
      "\t 52020 52010\n",
      "\t 54200 54180\n",
      "\t 59260 54130\n",
      "\t 71010 72010\n",
      "\t 71020 72020\n",
      "\t 71040 72040\n",
      "\t 72040 ERROR\n",
      "\t 74130 20120\n",
      "\t 4004000 42130\n",
      "\t 4005000 ERROR\n"
     ]
    },
    {
     "data": {
      "text/plain": [
       "'RESULT: 73.46%'"
      ]
     },
     "execution_count": 18,
     "metadata": {
      "tags": []
     },
     "output_type": "execute_result"
    }
   ],
   "source": [
    "count = 0\n",
    "codes = sorted(RUTAS['CODIGORUTA'].unique())\n",
    "\n",
    "print('reported != predicted:')\n",
    "for cod in codes:\n",
    "    try:\n",
    "        compare = (cod == cm.index[cm[cod].argmax()])\n",
    "        if  compare:\n",
    "            count += 1\n",
    "        else:\n",
    "            print('\\t', cod, cm.index[cm[cod].argmax()])\n",
    "    except:\n",
    "        print('\\t', cod, 'ERROR')\n",
    "\n",
    "result = f'{count/len(codes):.2%}'\n",
    "f'RESULT: {result}'"
   ]
  },
  {
   "cell_type": "markdown",
   "metadata": {
    "id": "5kQ4UIcfayMr"
   },
   "source": [
    "## Execution time"
   ]
  },
  {
   "cell_type": "code",
   "execution_count": null,
   "metadata": {
    "id": "o-o3dpwVayMr",
    "outputId": "2cf7c57b-ba36-403b-c6a1-3d0b13243f3b"
   },
   "outputs": [
    {
     "name": "stdout",
     "output_type": "stream",
     "text": [
      "Execution time:  00h02m39s\n"
     ]
    }
   ],
   "source": [
    "endTIME = time()\n",
    "print('Execution time: ', strftime(\"%Hh%Mm%Ss\", gmtime(endTIME - startTIME)))"
   ]
  },
  {
   "cell_type": "markdown",
   "metadata": {
    "id": "G5rd7LDIayMt"
   },
   "source": [
    "## Conclusions"
   ]
  },
  {
   "cell_type": "markdown",
   "metadata": {
    "id": "ZtVG-JgyayMu",
    "variables": {
     "result": "73.46%",
     "strftime(\"%Hh%Mm%Ss\", gmtime(endTIME - startTIME))": "00h02m39s"
    }
   },
   "source": [
    "* Reported vs Predicted: {{result}}\n",
    "* Posible explanations:\n",
    "    - Misreporting\n",
    "    - Model quality\n",
    "    - Errors in KML\n",
    "* Reasonable Execution time: {{strftime(\"%Hh%Mm%Ss\", gmtime(endTIME - startTIME))}}\n",
    "<br><br>\n",
    "* __Concerns:__\n",
    "    - KNN favors dense KML files\n",
    "    - Missing KML files\n",
    "    - Model performs better at completed routes"
   ]
  }
 ],
 "metadata": {
  "colab": {
   "collapsed_sections": [],
   "name": "Modelling.ipynb",
   "provenance": []
  },
  "hide_input": false,
  "kernelspec": {
   "display_name": "Python 3",
   "language": "python",
   "name": "python3"
  },
  "language_info": {
   "codemirror_mode": {
    "name": "ipython",
    "version": 3
   },
   "file_extension": ".py",
   "mimetype": "text/x-python",
   "name": "python",
   "nbconvert_exporter": "python",
   "pygments_lexer": "ipython3",
   "version": "3.6.12"
  },
  "toc": {
   "base_numbering": 1,
   "nav_menu": {},
   "number_sections": true,
   "sideBar": true,
   "skip_h1_title": true,
   "title_cell": "Table of Contents",
   "title_sidebar": "Contents",
   "toc_cell": false,
   "toc_position": {
    "height": "calc(100% - 180px)",
    "left": "10px",
    "top": "150px",
    "width": "206.885px"
   },
   "toc_section_display": true,
   "toc_window_display": true
  }
 },
 "nbformat": 4,
 "nbformat_minor": 1
}
